{
  "nbformat": 4,
  "nbformat_minor": 0,
  "metadata": {
    "colab": {
      "name": "190422_matching_pursuit.ipynb",
      "version": "0.3.2",
      "provenance": [],
      "include_colab_link": true
    },
    "kernelspec": {
      "name": "python3",
      "display_name": "Python 3"
    }
  },
  "cells": [
    {
      "cell_type": "markdown",
      "metadata": {
        "id": "view-in-github",
        "colab_type": "text"
      },
      "source": [
        "<a href=\"https://colab.research.google.com/github/Daisuke0209/sparse_modeling/blob/master/190422_matching_pursuit.ipynb\" target=\"_parent\"><img src=\"https://colab.research.google.com/assets/colab-badge.svg\" alt=\"Open In Colab\"/></a>"
      ]
    },
    {
      "cell_type": "markdown",
      "metadata": {
        "id": "3-bv7cWPApHo",
        "colab_type": "text"
      },
      "source": [
        "# l0最適化問題に対する貪欲法アプローチ"
      ]
    },
    {
      "cell_type": "markdown",
      "metadata": {
        "id": "-NiJmgfbA05t",
        "colab_type": "text"
      },
      "source": [
        "##ライブラリのインポート"
      ]
    },
    {
      "cell_type": "code",
      "metadata": {
        "id": "seiyU7rw2Qxg",
        "colab_type": "code",
        "colab": {}
      },
      "source": [
        "import numpy as np\n",
        "import matplotlib.pyplot as plt"
      ],
      "execution_count": 0,
      "outputs": []
    },
    {
      "cell_type": "markdown",
      "metadata": {
        "id": "BmFY8jWlBHzq",
        "colab_type": "text"
      },
      "source": [
        "## マッチング追跡関数の定義"
      ]
    },
    {
      "cell_type": "code",
      "metadata": {
        "id": "rkfM6mlb1ow0",
        "colab_type": "code",
        "colab": {}
      },
      "source": [
        "def MP(y,Phi,EPS,MAX_ITER):\n",
        "  m=Phi.shape[0]\n",
        "  n=Phi.shape[1]\n",
        "  x=np.zeros(n)\n",
        "  r=y\n",
        "  k=0\n",
        "  Phi_norm=np.diag(np.dot(Phi.T,Phi))\n",
        "  while (np.linalg.norm(r)>EPS)&(k<MAX_ITER):\n",
        "    v=np.dot(Phi.T,r)/np.sqrt(Phi_norm)\n",
        "    ik=np.argmax(np.abs(v))\n",
        "    z=np.dot(Phi[:,ik],r)/Phi_norm[ik]\n",
        "    x[ik]=x[ik]+z\n",
        "    r=r-np.dot(z,Phi[:,ik])\n",
        "    k=k+1\n",
        "  return x,k,np.linalg.norm(r)"
      ],
      "execution_count": 0,
      "outputs": []
    },
    {
      "cell_type": "markdown",
      "metadata": {
        "id": "9kJgfGocBTmD",
        "colab_type": "text"
      },
      "source": [
        "## 直交マッチング追跡関数の定義"
      ]
    },
    {
      "cell_type": "code",
      "metadata": {
        "id": "IdVRGhB0wdEx",
        "colab_type": "code",
        "colab": {}
      },
      "source": [
        "def OMP(y,Phi,EPS,MAX_ITER):\n",
        "  m=Phi.shape[0]\n",
        "  n=Phi.shape[1]\n",
        "  x=np.zeros(n)\n",
        "  r=y\n",
        "  k=0\n",
        "  S=np.zeros(n)\n",
        "  Phi_norm=np.diag(np.dot(Phi.T,Phi))\n",
        "  s=[]\n",
        "  while (np.linalg.norm(r)>EPS)&(k<MAX_ITER):\n",
        "    v=np.dot(Phi.T,r)/np.sqrt(Phi_norm)\n",
        "    ik=np.argmax(np.abs(v))\n",
        "    s.append(ik)\n",
        "    Phi_S = Phi[:,s]\n",
        "    a=np.dot(Phi_S.T,Phi_S)\n",
        "    if len(a)==1:\n",
        "      x[s]=np.dot(Phi_S.T,y)/a\n",
        "    else:\n",
        "      b=np.dot(np.linalg.inv(a),Phi_S.T)\n",
        "      x[s]=np.dot(b,y)\n",
        "    r=y-np.dot(Phi,x)\n",
        "    k=k+1\n",
        "  return x,k,np.linalg.norm(r)"
      ],
      "execution_count": 0,
      "outputs": []
    },
    {
      "cell_type": "markdown",
      "metadata": {
        "id": "XfiJ0O4DB8Hw",
        "colab_type": "text"
      },
      "source": [
        "## パラメータ設定"
      ]
    },
    {
      "cell_type": "code",
      "metadata": {
        "colab_type": "code",
        "id": "GVCtxsfaq9h7",
        "colab": {}
      },
      "source": [
        "x_orig=[]\n",
        "x_orig.append(-2)\n",
        "for i in range(50):\n",
        "  x_orig.append(0)\n",
        "x_orig.append(5)\n",
        "x_orig.append(3)\n",
        "p=np.poly1d(x_orig)\n",
        "t=[x/10 for x in range(11)]\n",
        "y=p(t)\n",
        "N=len(t)\n",
        "M=N-1\n",
        "M_l=len(x_orig)\n",
        "Phi=np.vander(t,M_l)\n",
        "EPS=1e-5\n",
        "MAX_ITER=1000"
      ],
      "execution_count": 0,
      "outputs": []
    },
    {
      "cell_type": "markdown",
      "metadata": {
        "id": "hZrM-n_93dAG",
        "colab_type": "text"
      },
      "source": [
        "今回の目的は、以下の多項式を”当てる”こと。\n",
        "$$y=-2t^{52}+5t+3$$\n",
        "観測点${\\bf t}=(t_i)_{i=1\\cdots n}$に対応して、モデルから観測データ${\\bf y}=(y_i)_{i=1\\cdots n}$が得られたとする。また、前提としてモデルは多項式でかつ、ほとんどの多項式の係数が0である（スパース性）ことを知っているとする。\n",
        "その状態で、多項式の係数を求めることを目的とする。"
      ]
    },
    {
      "cell_type": "code",
      "metadata": {
        "id": "z7RGzgq98WK9",
        "colab_type": "code",
        "colab": {
          "base_uri": "https://localhost:8080/",
          "height": 52
        },
        "outputId": "b933f39b-baae-4257-b4df-6488592f44e0"
      },
      "source": [
        "t=0.1234\n",
        "print(p(t))\n",
        "print(-2*t**52+5*t+3)"
      ],
      "execution_count": 47,
      "outputs": [
        {
          "output_type": "stream",
          "text": [
            "3.617\n",
            "3.617\n"
          ],
          "name": "stdout"
        }
      ]
    },
    {
      "cell_type": "markdown",
      "metadata": {
        "id": "PwLJnrjBCB6H",
        "colab_type": "text"
      },
      "source": [
        "## マッチング追跡の実行"
      ]
    },
    {
      "cell_type": "code",
      "metadata": {
        "id": "of1ffPrVAdTb",
        "colab_type": "code",
        "colab": {
          "base_uri": "https://localhost:8080/",
          "height": 87
        },
        "outputId": "4e0d5c95-7f78-49ff-e19c-da406ee48ba7"
      },
      "source": [
        "x,k,r_norm=MP(y,Phi,EPS,MAX_ITER)\n",
        "print(\"残差=%.10f\"%r_norm)\n",
        "print(x.round())"
      ],
      "execution_count": 51,
      "outputs": [
        {
          "output_type": "stream",
          "text": [
            "残差=0.0888997949\n",
            "[-2.  0.  0.  0.  0.  0.  0.  0.  0.  0.  0.  0.  0.  0.  0.  0.  0.  0.\n",
            "  0.  0.  0.  0.  0.  0.  0.  0.  0.  0.  0.  0.  0.  0.  0.  0.  0. -0.\n",
            "  0.  0.  0.  0.  0.  0.  1.  0.  0.  0. -0. -0. -1. -1.  3.  4.  3.]\n"
          ],
          "name": "stdout"
        }
      ]
    },
    {
      "cell_type": "code",
      "metadata": {
        "id": "WPDEsa5p9y8q",
        "colab_type": "code",
        "outputId": "59a8c41b-f46a-4947-e8c8-84ca5ae636bf",
        "colab": {
          "base_uri": "https://localhost:8080/",
          "height": 287
        }
      },
      "source": [
        "plt.plot(t,y)\n",
        "plt.plot(t,np.dot(Phi,x))"
      ],
      "execution_count": 52,
      "outputs": [
        {
          "output_type": "execute_result",
          "data": {
            "text/plain": [
              "[<matplotlib.lines.Line2D at 0x7f6848cb5828>]"
            ]
          },
          "metadata": {
            "tags": []
          },
          "execution_count": 52
        },
        {
          "output_type": "display_data",
          "data": {
            "image/png": "[encoded data removed]",
            "text/plain": [
              "<Figure size 432x288 with 1 Axes>"
            ]
          },
          "metadata": {
            "tags": []
          }
        }
      ]
    },
    {
      "cell_type": "markdown",
      "metadata": {
        "id": "DeE8TC9kCHdq",
        "colab_type": "text"
      },
      "source": [
        "## 直交マッチング追跡の実行"
      ]
    },
    {
      "cell_type": "code",
      "metadata": {
        "id": "A7biFaQzpGUi",
        "colab_type": "code",
        "colab": {
          "base_uri": "https://localhost:8080/",
          "height": 87
        },
        "outputId": "11ca7947-27ac-4792-fe66-e1717e276e46"
      },
      "source": [
        "x,k,r_norm=OMP(y,Phi,EPS,MAX_ITER)\n",
        "print(\"残差=%.10f\"%r_norm)\n",
        "print(x.round())"
      ],
      "execution_count": 53,
      "outputs": [
        {
          "output_type": "stream",
          "text": [
            "残差=0.0000000000\n",
            "[-2.  0.  0.  0.  0.  0.  0.  0.  0.  0.  0.  0.  0.  0.  0.  0.  0.  0.\n",
            "  0.  0.  0.  0.  0.  0.  0.  0.  0.  0.  0.  0.  0.  0.  0.  0.  0.  0.\n",
            "  0.  0.  0.  0.  0.  0.  0.  0.  0.  0. -0.  0.  0.  0. -0.  5.  3.]\n"
          ],
          "name": "stdout"
        }
      ]
    },
    {
      "cell_type": "code",
      "metadata": {
        "id": "ADd9wZjJAmlA",
        "colab_type": "code",
        "colab": {
          "base_uri": "https://localhost:8080/",
          "height": 287
        },
        "outputId": "257c5f31-dd86-409d-f785-2364083c55f3"
      },
      "source": [
        "plt.plot(t,y)\n",
        "plt.plot(t,np.dot(Phi,x))"
      ],
      "execution_count": 54,
      "outputs": [
        {
          "output_type": "execute_result",
          "data": {
            "text/plain": [
              "[<matplotlib.lines.Line2D at 0x7f6848aecc18>]"
            ]
          },
          "metadata": {
            "tags": []
          },
          "execution_count": 54
        },
        {
          "output_type": "display_data",
          "data": {
            "image/png": "[encoded data removed]",
            "text/plain": [
              "<Figure size 432x288 with 1 Axes>"
            ]
          },
          "metadata": {
            "tags": []
          }
        }
      ]
    },
    {
      "cell_type": "code",
      "metadata": {
        "id": "FmvaiHXqAnJb",
        "colab_type": "code",
        "colab": {
          "base_uri": "https://localhost:8080/",
          "height": 287
        },
        "outputId": "7a899746-c4db-4d5e-8488-a49af2191350"
      },
      "source": [
        "t2=[x/100 for x in range(101)]\n",
        "y2=p(t2)\n",
        "plt.plot(t2,y2)\n",
        "plt.plot(t,y,marker='o',linestyle='None')"
      ],
      "execution_count": 65,
      "outputs": [
        {
          "output_type": "execute_result",
          "data": {
            "text/plain": [
              "[<matplotlib.lines.Line2D at 0x7f68488d66a0>]"
            ]
          },
          "metadata": {
            "tags": []
          },
          "execution_count": 65
        },
        {
          "output_type": "display_data",
          "data": {
            "image/png": "[encoded data removed]",
            "text/plain": [
              "<Figure size 432x288 with 1 Axes>"
            ]
          },
          "metadata": {
            "tags": []
          }
        }
      ]
    },
    {
      "cell_type": "code",
      "metadata": {
        "id": "2za22JF0KIEZ",
        "colab_type": "code",
        "colab": {}
      },
      "source": [
        ""
      ],
      "execution_count": 0,
      "outputs": []
    }
  ]
}